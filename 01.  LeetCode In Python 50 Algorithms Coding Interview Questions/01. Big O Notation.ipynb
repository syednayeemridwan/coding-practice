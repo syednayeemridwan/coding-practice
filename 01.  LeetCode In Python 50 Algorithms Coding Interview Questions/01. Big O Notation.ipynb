{
 "cells": [
  {
   "attachments": {},
   "cell_type": "markdown",
   "metadata": {},
   "source": [
    "# Big O"
   ]
  },
  {
   "attachments": {},
   "cell_type": "markdown",
   "metadata": {},
   "source": [
    "- There are many ways to solve a problem\n",
    "- But which way of solving is better?\n",
    "    - Big O tells us which way of solving a problem is mre efficient than the rest\n",
    "- Why does efficiency matter?\n",
    "    - Because, if the solution is not efficient, when the system grows larger, the time to solve the problem will grow bigger.\n",
    "- Efficient solution to a problem = less time + less space\n",
    "- Sometimes we need to choose between time or space\n",
    "    - Big O helps to choose the solution for the right trade-off between space and time\n",
    "- Big O is a formal way of expressing how runtime grows with input. (For an algorithm, if you give n inputs, how long will it take to complete the given problem)\n",
    "- Big O is considered with worse case scenario (Given a problem, how much time will it take AT MOST or upper bound)\n",
    "- Things to consider:\n",
    "    1. Number of operations is not related to the length of an array (Operation means assignment / addition / multiplication/ division etc.)\n",
    "        - So number of operations' complexity can be considered constant or O(1)\n",
    "    2. Number of iterations multiplies the operations by a factor of n. \n",
    "        -So n iterations of any number of operations for a single loop has complexity of\n",
    "    3. Ignore constant. all constant will evaluate to O(1).\n",
    "    4. When considering higher degree of polynomial. The highest polynomial will be considered the final complexity.\n",
    "        - For a complexity of O(n * n) + O(n), it will be considere O(n * n)\n",
    "        - This is because the increase in higher polynomial for each input is so big that the lower polynomial's increase does not consider much of an addition (too negligible amount)\n",
    "    5. Time complexity = When you are considering number of inputs\n",
    "    6. Space complexity = When you are considering number of variables\n",
    "        - appending value in a list inside a for loop evaluates to O(n) space complexity.\n",
    "        - Matrix has a space complexity of O(M) for m number of rows * O(N) for n number of columns  = O(MN)  \n",
    "        - Is it taking up more memory with each input. Yes. 1 new space in the list for each new input.\n",
    "        - Hash table = O(n) ... This is python dictionaries, map etc."
   ]
  },
  {
   "attachments": {},
   "cell_type": "markdown",
   "metadata": {},
   "source": [
    "# O(1)"
   ]
  },
  {
   "attachments": {},
   "cell_type": "markdown",
   "metadata": {},
   "source": [
    "- This is a constant\n",
    "- It means that the time to solve a problem (time complexity) will remain constant for given inputs"
   ]
  },
  {
   "attachments": {},
   "cell_type": "markdown",
   "metadata": {},
   "source": [
    "#  O(n)"
   ]
  },
  {
   "attachments": {},
   "cell_type": "markdown",
   "metadata": {},
   "source": [
    "- This is an equation of line. \n",
    "- It means that the time to solve a problem (time complexity) will increase linearly according the the given inputs\n",
    "- 2 separated and independent for loop is O(n) + O(n) = 2* O(n) = O(n)\n",
    "- Why 2 is omitted?\n",
    "    - We will only consider the big picture. Constant value does not affect time too much. So they can be omitted.\n"
   ]
  },
  {
   "attachments": {},
   "cell_type": "markdown",
   "metadata": {},
   "source": [
    "# O(n* n *n)\n"
   ]
  },
  {
   "attachments": {},
   "cell_type": "markdown",
   "metadata": {},
   "source": [
    "- This is an example of 3 for loops on top of each other\n",
    "- This is bad. Since for 1 increase in input, time increases with the power of 3"
   ]
  },
  {
   "attachments": {},
   "cell_type": "markdown",
   "metadata": {},
   "source": [
    "# O(logN)"
   ]
  },
  {
   "attachments": {},
   "cell_type": "markdown",
   "metadata": {},
   "source": [
    "- Time complexity that tells us how many times do we need to divide n (for n number of inputs) with a certain value (the log's base value) until we reach the value 1.\n",
    "- This is bettern than O(n) (used in binary search)\n",
    "- For the same reason, O(nlogn) (used in merge sort) is better than O(n * n). However O(nlogn) is worse than O(n)"
   ]
  }
 ],
 "metadata": {
  "kernelspec": {
   "display_name": "Python 3.10.6 64-bit",
   "language": "python",
   "name": "python3"
  },
  "language_info": {
   "name": "python",
   "version": "3.10.6"
  },
  "orig_nbformat": 4,
  "vscode": {
   "interpreter": {
    "hash": "8685988185e40cc916bc7e974596a5fcf77ca993f868d1f6369a5ac90b1a1d7d"
   }
  }
 },
 "nbformat": 4,
 "nbformat_minor": 2
}
