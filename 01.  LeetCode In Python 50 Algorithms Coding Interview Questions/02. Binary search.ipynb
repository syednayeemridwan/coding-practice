{
 "cells": [
  {
   "attachments": {},
   "cell_type": "markdown",
   "metadata": {},
   "source": [
    "# Binary Search"
   ]
  },
  {
   "attachments": {},
   "cell_type": "markdown",
   "metadata": {},
   "source": [
    "- Takes O(logn) time\n",
    "- Works only when the array is sorted\n",
    "- Then it knows where to search. Then it can directly search like human dictionary searching for a word."
   ]
  },
  {
   "attachments": {},
   "cell_type": "markdown",
   "metadata": {},
   "source": [
    "# How it works"
   ]
  },
  {
   "attachments": {},
   "cell_type": "markdown",
   "metadata": {},
   "source": [
    "<img src=\"images/01.png\" style=\"width:600px;height:300px;\">"
   ]
  },
  {
   "attachments": {},
   "cell_type": "markdown",
   "metadata": {},
   "source": [
    "- It already knows the lowest value and highest values' index, since the list is sorted\n",
    "- It finds the middle index. And compare the value that resides in the middle index.\n",
    "- If the target value is greater than the value in the middle index, then the target value is on the right\n",
    "    - So it can safely discard the values on the left\n",
    "- If the target value is less than the value in the middle index, then the target value is on the left\n",
    "    - So it can safely discard the values on the right\n",
    "- Continue this process on the values that remain in the list until it finds the real value\n"
   ]
  },
  {
   "attachments": {},
   "cell_type": "markdown",
   "metadata": {},
   "source": [
    "# Code"
   ]
  },
  {
   "cell_type": "code",
   "execution_count": 3,
   "metadata": {},
   "outputs": [
    {
     "name": "stdout",
     "output_type": "stream",
     "text": [
      "Element is present at index 5\n"
     ]
    }
   ],
   "source": [
    "def binarySearch(some_list, target):\n",
    "    left = 0\n",
    "    right = len(some_list)-1\n",
    "    while left <= right:\n",
    "\n",
    "        mid = (left+right)//2\n",
    "\n",
    "        # Check if the target value is present at middle index\n",
    "        if some_list[mid] == target:\n",
    "            return mid\n",
    "\n",
    "        # If target is greater, discard left values by setting new lowest value as the value immediately right to the midle index\n",
    "        elif some_list[mid] < target:\n",
    "            left = mid + 1\n",
    "\n",
    "        # If target is smaller, discard right values by setting new highest value as the value immediately left to the midle index\n",
    "        else:\n",
    "            right = mid - 1\n",
    "\n",
    "    # If we reach here, then the element was not present\n",
    "    return -1\n",
    "\n",
    "\n",
    "my_list = [1, 2, 3, 4, 5, 6]\n",
    "target = 6\n",
    "\n",
    "result = binarySearch(my_list, target)\n",
    "\n",
    "if result != -1:\n",
    "    print(f\"Element is present at index {result}\")\n",
    "else:\n",
    "    print(\"Element is not present in array\")"
   ]
  }
 ],
 "metadata": {
  "kernelspec": {
   "display_name": "Python 3.10.6 64-bit",
   "language": "python",
   "name": "python3"
  },
  "language_info": {
   "codemirror_mode": {
    "name": "ipython",
    "version": 3
   },
   "file_extension": ".py",
   "mimetype": "text/x-python",
   "name": "python",
   "nbconvert_exporter": "python",
   "pygments_lexer": "ipython3",
   "version": "3.10.6"
  },
  "orig_nbformat": 4,
  "vscode": {
   "interpreter": {
    "hash": "8685988185e40cc916bc7e974596a5fcf77ca993f868d1f6369a5ac90b1a1d7d"
   }
  }
 },
 "nbformat": 4,
 "nbformat_minor": 2
}
